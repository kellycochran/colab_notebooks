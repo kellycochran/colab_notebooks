{
  "nbformat": 4,
  "nbformat_minor": 0,
  "metadata": {
    "colab": {
      "name": "Awk Basics.ipynb",
      "provenance": [],
      "toc_visible": true,
      "authorship_tag": "ABX9TyMLAT18cvJOL+7MX7cTtWvh",
      "include_colab_link": true
    },
    "kernelspec": {
      "name": "python3",
      "display_name": "Python 3"
    }
  },
  "cells": [
    {
      "cell_type": "markdown",
      "metadata": {
        "id": "view-in-github",
        "colab_type": "text"
      },
      "source": [
        "<a href=\"https://colab.research.google.com/github/kellycochran/colab_notebooks/blob/master/Awk_Basics.ipynb\" target=\"_parent\"><img src=\"https://colab.research.google.com/assets/colab-badge.svg\" alt=\"Open In Colab\"/></a>"
      ]
    },
    {
      "cell_type": "markdown",
      "metadata": {
        "id": "lyb3ooHRmOJB",
        "colab_type": "text"
      },
      "source": [
        "# Intro To Awk\n",
        "\n",
        "First, let's make a test file to run awk commands on:"
      ]
    },
    {
      "cell_type": "code",
      "metadata": {
        "id": "KTpXteXkmx-D",
        "colab_type": "code",
        "colab": {
          "base_uri": "https://localhost:8080/",
          "height": 104
        },
        "outputId": "fb76f08c-c30c-46e4-f4f4-a316f241992b"
      },
      "source": [
        "# \"%%bash\" means this cell will run bash/command line code, not Python code\n",
        "%%bash\n",
        "\n",
        "# create an empty file named test.txt\n",
        "if [[ -f test.txt ]]; then rm test.txt; fi\n",
        "touch test.txt\n",
        "\n",
        "# append each line to the file one by one\n",
        "# each line has 3 columns\n",
        "echo \"1    A    Apple\" >> test.txt\n",
        "echo \"2    B    Banana\" >> test.txt\n",
        "echo \"3    C    Cat\" >> test.txt\n",
        "echo \"4    D    Dog\" >> test.txt\n",
        "echo \"5    E    Extra Dog\" >> test.txt\n",
        "\n",
        "# ensure columns are tab-separated (replace 4 spaces with a tab)\n",
        "sed 's/    /\\t/g' test.txt > tmp.txt\n",
        "mv tmp.txt test.txt\n",
        "\n",
        "# print out the file contents\n",
        "cat test.txt"
      ],
      "execution_count": 46,
      "outputs": [
        {
          "output_type": "stream",
          "text": [
            "1\tA\tApple\n",
            "2\tB\tBanana\n",
            "3\tC\tCat\n",
            "4\tD\tDog\n",
            "5\tE\tExtra Dog\n"
          ],
          "name": "stdout"
        }
      ]
    },
    {
      "cell_type": "markdown",
      "metadata": {
        "id": "HxrCvN0Lm2o3",
        "colab_type": "text"
      },
      "source": [
        "At its simplest, an awk command takes the format:\n",
        "\n",
        "`awk '{  [something]  }' filename`\n",
        "\n",
        "This command will execute whatever awk code is written inside the braces on every line in the input file, individually.\n",
        "\n",
        "The simplest thing we could put in the braces is `print`. This causes awk to print the entire line; when this is executed once each line, the result is that the entire file is printed."
      ]
    },
    {
      "cell_type": "code",
      "metadata": {
        "id": "b2rbsEufmKla",
        "colab_type": "code",
        "colab": {
          "base_uri": "https://localhost:8080/",
          "height": 104
        },
        "outputId": "9a6df006-c1e4-4239-f7c3-0ffe8a1f428b"
      },
      "source": [
        "%%bash\n",
        "awk '{ print }' test.txt"
      ],
      "execution_count": 47,
      "outputs": [
        {
          "output_type": "stream",
          "text": [
            "1\tA\tApple\n",
            "2\tB\tBanana\n",
            "3\tC\tCat\n",
            "4\tD\tDog\n",
            "5\tE\tExtra Dog\n"
          ],
          "name": "stdout"
        }
      ]
    },
    {
      "cell_type": "markdown",
      "metadata": {
        "id": "MK0Nso-UoRdF",
        "colab_type": "text"
      },
      "source": [
        "We can specify that we only want awk to print one or more columns from each line:"
      ]
    },
    {
      "cell_type": "code",
      "metadata": {
        "id": "3ENUS7mBodW7",
        "colab_type": "code",
        "colab": {
          "base_uri": "https://localhost:8080/",
          "height": 104
        },
        "outputId": "f112b68e-32cd-4500-86b4-4c9ad848252b"
      },
      "source": [
        "%%bash\n",
        "# print only column 1\n",
        "awk '{ print $1 }' test.txt"
      ],
      "execution_count": 48,
      "outputs": [
        {
          "output_type": "stream",
          "text": [
            "1\n",
            "2\n",
            "3\n",
            "4\n",
            "5\n"
          ],
          "name": "stdout"
        }
      ]
    },
    {
      "cell_type": "code",
      "metadata": {
        "id": "Nbf0cr2jnykP",
        "colab_type": "code",
        "colab": {
          "base_uri": "https://localhost:8080/",
          "height": 104
        },
        "outputId": "1bf25ce6-481f-4d50-8607-224b0f5d1a62"
      },
      "source": [
        "%%bash\n",
        "# print only columns 1 and 3\n",
        "# note that only \"Extra\", not \"Extra Dog\", is printed for line 5\n",
        "awk '{ print $1, $3 }' test.txt"
      ],
      "execution_count": 49,
      "outputs": [
        {
          "output_type": "stream",
          "text": [
            "1 Apple\n",
            "2 Banana\n",
            "3 Cat\n",
            "4 Dog\n",
            "5 Extra\n"
          ],
          "name": "stdout"
        }
      ]
    },
    {
      "cell_type": "markdown",
      "metadata": {
        "id": "1sla7NqTy3oo",
        "colab_type": "text"
      },
      "source": [
        "Using `print $0` is equivalent to `print` -- the entire line is printed."
      ]
    },
    {
      "cell_type": "markdown",
      "metadata": {
        "id": "PXBAepxYv5hI",
        "colab_type": "text"
      },
      "source": [
        "## Field Separators"
      ]
    },
    {
      "cell_type": "markdown",
      "metadata": {
        "id": "MFoQQqL1ohDW",
        "colab_type": "text"
      },
      "source": [
        "By default, awk decides what the columns in a file are by looking for whitespace (tabs or spaces); and when awk prints out multiple columns, by default it puts single spaces between them. We can change this by setting the variables FS (input field separator) and OFS (output field separator)."
      ]
    },
    {
      "cell_type": "code",
      "metadata": {
        "id": "0igHysFhpA9I",
        "colab_type": "code",
        "colab": {
          "base_uri": "https://localhost:8080/",
          "height": 104
        },
        "outputId": "ff2830d3-9fd7-469a-b77c-f1c68c8d2926"
      },
      "source": [
        "%%bash\n",
        "# here the output columns will be tab-separated\n",
        "awk -v OFS=\"\\t\" '{ print $1, $3 }' test.txt"
      ],
      "execution_count": 54,
      "outputs": [
        {
          "output_type": "stream",
          "text": [
            "1\tApple\n",
            "2\tBanana\n",
            "3\tCat\n",
            "4\tDog\n",
            "5\tExtra\n"
          ],
          "name": "stdout"
        }
      ]
    },
    {
      "cell_type": "code",
      "metadata": {
        "id": "LQnxOga-pGcN",
        "colab_type": "code",
        "colab": {
          "base_uri": "https://localhost:8080/",
          "height": 104
        },
        "outputId": "b38648e6-a60d-4003-d81a-fb8942e61126"
      },
      "source": [
        "%%bash\n",
        "# here \"Extra Dog\", with the space, is printed for line 5\n",
        "awk -v FS='\\t' '{ print $1, $3 }' test.txt"
      ],
      "execution_count": 55,
      "outputs": [
        {
          "output_type": "stream",
          "text": [
            "1 Apple\n",
            "2 Banana\n",
            "3 Cat\n",
            "4 Dog\n",
            "5 Extra Dog\n"
          ],
          "name": "stdout"
        }
      ]
    },
    {
      "cell_type": "code",
      "metadata": {
        "id": "ai97TdRppENm",
        "colab_type": "code",
        "colab": {
          "base_uri": "https://localhost:8080/",
          "height": 104
        },
        "outputId": "3d0fca05-547f-407a-b87b-a97e313fcd7d"
      },
      "source": [
        "%%bash\n",
        "# combining the two\n",
        "awk -v FS='\\t' -v OFS='\\t' '{ print $1, $3 }' test.txt"
      ],
      "execution_count": 56,
      "outputs": [
        {
          "output_type": "stream",
          "text": [
            "1\tApple\n",
            "2\tBanana\n",
            "3\tCat\n",
            "4\tDog\n",
            "5\tExtra Dog\n"
          ],
          "name": "stdout"
        }
      ]
    },
    {
      "cell_type": "markdown",
      "metadata": {
        "id": "isUv2X3nv90Z",
        "colab_type": "text"
      },
      "source": [
        "## Awk With Conditionals/Regex\n",
        "\n",
        "If you don't want the main awk command to run on every line, there are two ways to make the command only apply to certain lines: if statements and regex conditionals."
      ]
    },
    {
      "cell_type": "markdown",
      "metadata": {
        "id": "BUlLkP1Yx49R",
        "colab_type": "text"
      },
      "source": [
        "### If Statements"
      ]
    },
    {
      "cell_type": "code",
      "metadata": {
        "id": "0wPY0BfUtOOU",
        "colab_type": "code",
        "colab": {
          "base_uri": "https://localhost:8080/",
          "height": 69
        },
        "outputId": "1e812978-c59a-4886-c870-3e1d7da7b253"
      },
      "source": [
        "%%bash\n",
        "# only the first 3 lines\n",
        "awk '{ if ($1 < 4) print }' test.txt"
      ],
      "execution_count": 71,
      "outputs": [
        {
          "output_type": "stream",
          "text": [
            "1\tA\tApple\n",
            "2\tB\tBanana\n",
            "3\tC\tCat\n"
          ],
          "name": "stdout"
        }
      ]
    },
    {
      "cell_type": "code",
      "metadata": {
        "id": "5axcyE6awtYZ",
        "colab_type": "code",
        "colab": {
          "base_uri": "https://localhost:8080/",
          "height": 52
        },
        "outputId": "28977484-eb4b-4614-9d44-d5196ad04f7e"
      },
      "source": [
        "%%bash\n",
        "# only the even lines\n",
        "awk '{ if ($1 % 2 == 0) print }' test.txt"
      ],
      "execution_count": 72,
      "outputs": [
        {
          "output_type": "stream",
          "text": [
            "2\tB\tBanana\n",
            "4\tD\tDog\n"
          ],
          "name": "stdout"
        }
      ]
    },
    {
      "cell_type": "code",
      "metadata": {
        "id": "wYXVqI_5yBYD",
        "colab_type": "code",
        "colab": {
          "base_uri": "https://localhost:8080/",
          "height": 52
        },
        "outputId": "a3cf2862-e7d5-4d85-e8f6-65375579c9bd"
      },
      "source": [
        "%%bash\n",
        "#if you want to output the whole line, you can use this shorthand:\n",
        "awk '$1 % 2 == 0' test.txt\n",
        "# note that there are no braces now\n",
        "\n",
        "# this is equivalent to:\n",
        "# awk '{ if ($1 % 2 == 0) print }' test.txt"
      ],
      "execution_count": 73,
      "outputs": [
        {
          "output_type": "stream",
          "text": [
            "2\tB\tBanana\n",
            "4\tD\tDog\n"
          ],
          "name": "stdout"
        }
      ]
    },
    {
      "cell_type": "markdown",
      "metadata": {
        "id": "oL1E9NrQx8yP",
        "colab_type": "text"
      },
      "source": [
        "### Regex"
      ]
    },
    {
      "cell_type": "code",
      "metadata": {
        "id": "sAUSkTwmw1QE",
        "colab_type": "code",
        "colab": {
          "base_uri": "https://localhost:8080/",
          "height": 69
        },
        "outputId": "963c76f0-caf0-4d31-d62d-eb299a637974"
      },
      "source": [
        "%%bash\n",
        "# only lines 2, 3, and 5 have a lowercase a in them\n",
        "awk '/a/ { print }' test.txt"
      ],
      "execution_count": 74,
      "outputs": [
        {
          "output_type": "stream",
          "text": [
            "2\tB\tBanana\n",
            "3\tC\tCat\n",
            "5\tE\tExtra Dog\n"
          ],
          "name": "stdout"
        }
      ]
    },
    {
      "cell_type": "code",
      "metadata": {
        "id": "bX7hUnDWxRaA",
        "colab_type": "code",
        "colab": {
          "base_uri": "https://localhost:8080/",
          "height": 34
        },
        "outputId": "ad875f30-3d3c-4e04-ed5d-35f5a4a6c334"
      },
      "source": [
        "%%bash\n",
        "# only line 4 ends in \"[tab]Dog\"\n",
        "awk '/\\tDog$/ { print }' test.txt"
      ],
      "execution_count": 77,
      "outputs": [
        {
          "output_type": "stream",
          "text": [
            "4\tD\tDog\n"
          ],
          "name": "stdout"
        }
      ]
    },
    {
      "cell_type": "markdown",
      "metadata": {
        "id": "qET_iFRTzwcT",
        "colab_type": "text"
      },
      "source": [
        "## Some Awk Variables\n",
        "\n",
        "Within an awk command, the variable `NR` will be set to whatever line you are currently on (so if you are on the first line, `NR == 1`). The variable `NF` contains the number of columns/fields found in that line. This means you can access the last column in a file with `$NF`. Note that `NF` by itself is an integer variable, while `$NF` with the dollar sign refers to a column."
      ]
    },
    {
      "cell_type": "code",
      "metadata": {
        "id": "ExhTBpASxhnj",
        "colab_type": "code",
        "colab": {
          "base_uri": "https://localhost:8080/",
          "height": 52
        },
        "outputId": "be6ab95d-bee9-4073-b171-6838f9eae4e7"
      },
      "source": [
        "%%bash\n",
        "# another way of only printing the even lines\n",
        "awk 'NR % 2 == 0' test.txt"
      ],
      "execution_count": 82,
      "outputs": [
        {
          "output_type": "stream",
          "text": [
            "2\tB\tBanana\n",
            "4\tD\tDog\n"
          ],
          "name": "stdout"
        }
      ]
    },
    {
      "cell_type": "code",
      "metadata": {
        "id": "1yMaIzIt1DQu",
        "colab_type": "code",
        "colab": {
          "base_uri": "https://localhost:8080/",
          "height": 104
        },
        "outputId": "8d177874-7e04-4ff3-9aeb-2bb27a33f0d3"
      },
      "source": [
        "%%bash\n",
        "# only print the last column in each line\n",
        "awk -v FS='\\t' '{ print $NF }' test.txt"
      ],
      "execution_count": 85,
      "outputs": [
        {
          "output_type": "stream",
          "text": [
            "Apple\n",
            "Banana\n",
            "Cat\n",
            "Dog\n",
            "Extra Dog\n"
          ],
          "name": "stdout"
        }
      ]
    },
    {
      "cell_type": "code",
      "metadata": {
        "id": "SmwWIYSi1pIS",
        "colab_type": "code",
        "colab": {
          "base_uri": "https://localhost:8080/",
          "height": 104
        },
        "outputId": "7dcddef0-6d5d-40e3-c2c2-9c7ef82cbf7f"
      },
      "source": [
        "%%bash\n",
        "# only print the second-to-last column in each line\n",
        "awk -v FS='\\t' '{ print $(NF - 1) }' test.txt"
      ],
      "execution_count": 86,
      "outputs": [
        {
          "output_type": "stream",
          "text": [
            "A\n",
            "B\n",
            "C\n",
            "D\n",
            "E\n"
          ],
          "name": "stdout"
        }
      ]
    },
    {
      "cell_type": "markdown",
      "metadata": {
        "id": "cnLBmLJP2-kU",
        "colab_type": "text"
      },
      "source": [
        "One good use of `NF` is to check if all the lines in a file have the same number of columns."
      ]
    },
    {
      "cell_type": "code",
      "metadata": {
        "id": "qVvzJ5OZ1tV2",
        "colab_type": "code",
        "colab": {
          "base_uri": "https://localhost:8080/",
          "height": 104
        },
        "outputId": "c3e60104-7692-45c8-b4ee-86cc25c15d25"
      },
      "source": [
        "%%bash\n",
        "# with the default spaces and tabs as field separator...\n",
        "# note that we use NF without a dollar sign here\n",
        "# the result: we see the last line in the file appears to have an extra column\n",
        "awk '{ print NF }' test.txt"
      ],
      "execution_count": 89,
      "outputs": [
        {
          "output_type": "stream",
          "text": [
            "3\n",
            "3\n",
            "3\n",
            "3\n",
            "4\n"
          ],
          "name": "stdout"
        }
      ]
    },
    {
      "cell_type": "code",
      "metadata": {
        "id": "8RQVF7u73e7m",
        "colab_type": "code",
        "colab": {
          "base_uri": "https://localhost:8080/",
          "height": 104
        },
        "outputId": "31dce5d5-04e8-4419-983b-d08ab5e7d77d"
      },
      "source": [
        "%%bash\n",
        "# with tab as the input field separator...\n",
        "# now all the lines in the file have the same number of columns\n",
        "awk -v FS='\\t' '{ print NF }' test.txt"
      ],
      "execution_count": 88,
      "outputs": [
        {
          "output_type": "stream",
          "text": [
            "3\n",
            "3\n",
            "3\n",
            "3\n",
            "3\n"
          ],
          "name": "stdout"
        }
      ]
    },
    {
      "cell_type": "markdown",
      "metadata": {
        "id": "9e0cLms330rc",
        "colab_type": "text"
      },
      "source": [
        "## You Can Do Math In Awk: A BED File Example"
      ]
    },
    {
      "cell_type": "code",
      "metadata": {
        "id": "rrYIlp1L3lPx",
        "colab_type": "code",
        "colab": {
          "base_uri": "https://localhost:8080/",
          "height": 104
        },
        "outputId": "25c4693f-d02c-48f1-faeb-5e258ad03845"
      },
      "source": [
        "%%bash\n",
        "\n",
        "# let's make an example BED-formatted file (a common bioinformatics file format).\n",
        "if [[ -f test.bed ]]; then rm test.bed; fi\n",
        "touch test.bed\n",
        "\n",
        "# append each line to the file one by one\n",
        "# each line has 3 columns\n",
        "echo \"chr1    0    500\" >> test.bed\n",
        "echo \"chr1    20    340\" >> test.bed\n",
        "echo \"chr2    58    60\" >> test.bed\n",
        "echo \"chr2    100    1000\" >> test.bed\n",
        "echo \"chr3    101    201\" >> test.bed\n",
        "\n",
        "# ensure columns are tab-separated (replace 4 spaces with a tab)\n",
        "sed 's/    /\\t/g' test.bed > tmp.bed\n",
        "mv tmp.bed test.bed\n",
        "\n",
        "\n",
        "# print out the file contents\n",
        "cat test.bed"
      ],
      "execution_count": 90,
      "outputs": [
        {
          "output_type": "stream",
          "text": [
            "chr1\t0\t500\n",
            "chr1\t20\t340\n",
            "chr2\t58\t60\n",
            "chr2\t100\t1000\n",
            "chr3\t101\t201\n"
          ],
          "name": "stdout"
        }
      ]
    },
    {
      "cell_type": "code",
      "metadata": {
        "id": "GR_bVaQf4_r6",
        "colab_type": "code",
        "colab": {
          "base_uri": "https://localhost:8080/",
          "height": 52
        },
        "outputId": "df5d261f-7f76-442b-9f13-e507c3089bf5"
      },
      "source": [
        "%%bash\n",
        "# only print lines where column 3 is more than 400 larger than column 2\n",
        "awk '$3 - $2 > 400' test.bed"
      ],
      "execution_count": 91,
      "outputs": [
        {
          "output_type": "stream",
          "text": [
            "chr1\t0\t500\n",
            "chr2\t100\t1000\n"
          ],
          "name": "stdout"
        }
      ]
    },
    {
      "cell_type": "code",
      "metadata": {
        "id": "eHHDzLfV5PGs",
        "colab_type": "code",
        "colab": {
          "base_uri": "https://localhost:8080/",
          "height": 104
        },
        "outputId": "ee6e4386-a6c7-41d9-80b6-35dc27e12020"
      },
      "source": [
        "%%bash\n",
        "# a more complicated example, with if/else\n",
        "\n",
        "# if the size of the difference between column 2 and column 3 is larger than 200,\n",
        "# replace the values in columns 2 and 3 such that the difference is exactly 200,\n",
        "# while keeping their midpoint the same.\n",
        "\n",
        "# otherwise, print the line as-is.\n",
        "\n",
        "awk -v OFS='\\t' '{ if ($3 - $2 > 200) print $1, ($2 + $3)/2 - 100, ($2 + $3)/2 + 100 ; else print }' test.bed"
      ],
      "execution_count": 96,
      "outputs": [
        {
          "output_type": "stream",
          "text": [
            "chr1\t150\t350\n",
            "chr1\t80\t280\n",
            "chr2\t58\t60\n",
            "chr2\t450\t650\n",
            "chr3\t101\t201\n"
          ],
          "name": "stdout"
        }
      ]
    }
  ]
}